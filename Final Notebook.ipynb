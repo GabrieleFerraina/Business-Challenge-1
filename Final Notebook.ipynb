{
 "cells": [
  {
   "cell_type": "markdown",
   "id": "d06c5c8e",
   "metadata": {},
   "source": [
    "</div>\n",
    "<B style=\"list-style-type: none; font-size: 33px; color: black; margin-top: 10;\">Savings and IRA Funds Predictor for Retirees</B>\n",
    "<br>\n",
    "<div style=\"float: right; margin: 0px 15px 15px 0px;\">\n",
    "\t<br><img src=\"https://comptroller.texas.gov/economy/fiscal-notes/2019/feb/images/pensionhero.jpg\" width=400/>\n",
    "</div>  <br>  <B style=\"color: #2B547E; display: block;\">\n",
    "<em style=\"color: teal;\"> <strong>Business Challenge</strong></em>\n",
    "<br><em style=\"color: teal;\">Project by Gabriele Ferraina and Michele Pittarello</em><br>\n",
    "\n",
    "</div>\n",
    "<br><br><span style=\"color: teal;\" </b> HULT International Business School <br></span>\n",
    "<span style=\"color: teal;\"</b> MBANDD Master in Business Analytics \n",
    "<br><br><div style=\"float: left; margin: 0px 15px 15px 0px;\">\n",
    "\t<img src=\"https://upload.wikimedia.org/wikipedia/commons/b/b6/HULT_IBS_Logo_Outline_Black_%28cropped%29.png\" width=250/>\n",
    "</div>"
   ]
  },
  {
   "cell_type": "code",
   "execution_count": 1,
   "id": "e933572b",
   "metadata": {},
   "outputs": [],
   "source": [
    "# Import libraries\n",
    "import warnings\n",
    "warnings.filterwarnings(\"ignore\")  # This is to ignore any warnings that might pop up during execution\n",
    "\n",
    "import matplotlib.pyplot as plt  #for plots\n",
    "import numpy as np  #for numerical calculations\n",
    "import pandas as pd #to work with data and manipulate it\n",
    "import plotly.express as px #for plots\n",
    "import seaborn as sns #for plots\n",
    "from scipy import stats #for statistical analyses\n",
    "import datetime\n",
    "import ipywidgets as widgets\n",
    "from IPython.display import display, clear_output\n",
    "\n",
    "np.random.seed(42) #This is so every computation can be reproduced\n",
    "pd.set_option('display.float_format','{:.2f}'.format)"
   ]
  },
  {
   "cell_type": "markdown",
   "id": "5f4e1133",
   "metadata": {},
   "source": [
    "These codes import the data into the file to avoid hardcoding numbers (manually inserting values)"
   ]
  },
  {
   "cell_type": "markdown",
   "id": "9d22d156",
   "metadata": {},
   "source": [
    "Sources: \n",
    "*  Department of Treasury IRS (Nov 02, 2022). Tax Rate Schedules; Schedule Y-1 If your filling status is Married filling jointly or Qualifying Widow(er), U.S. IRS Federal Tax Rates, page 7; Retrieved on Dec 7th 2023 available at: http://www.irs.gov/pub/irs-pdf/f1040es.pdf\n",
    "*  State of California Franchise Tax Board (2022). CALIFORNIA WITHHOLDING SCHEDULES FOR 2023. 2023 Withholding Schedules - Method B (INTERNET) Page 7. Retrieved on Dec 12th 2023. Available at https://edd.ca.gov/siteassets/files/pdf_pub_ctr/23methb.pdf\n",
    "*  Massachusetts Department of Revenue (Feb 02, 2023). Personal Income Tax for Residents. Retrieved on Dec 7th 2023 available at https://www.mass.gov/info-details/massachusetts-tax-rates\n",
    "*  Internal Revenue Service (IRS). (2023). Publication 590-B (2022), Distributions from Individual Retirement Arrangements (IRAs) | Internal Revenue Service. IRS. https://www.irs.gov/publications/p590b"
   ]
  },
  {
   "cell_type": "code",
   "execution_count": 2,
   "id": "2689b338",
   "metadata": {},
   "outputs": [],
   "source": [
    "import_path = \"./data/\"\n",
    "\n",
    "import_filename = \"californiatax.csv\"\n",
    "\n",
    "import_data = pd.read_csv(import_path + import_filename)\n",
    "\n",
    "californiatax = import_data.copy()\n",
    "\n",
    "import_filename = \"federaltax.csv\"\n",
    "\n",
    "import_data = pd.read_csv(import_path + import_filename)\n",
    "\n",
    "federaltax = import_data.copy()\n",
    "\n",
    "import_filename = \"inflation.csv\"\n",
    "\n",
    "import_data = pd.read_csv(import_path + import_filename)\n",
    "\n",
    "inflation = import_data.copy()\n",
    "\n",
    "import_filename = \"irsira.csv\"\n",
    "\n",
    "import_data = pd.read_csv(import_path + import_filename)\n",
    "\n",
    "irsira = import_data.copy()"
   ]
  },
  {
   "cell_type": "markdown",
   "id": "26201fb9",
   "metadata": {},
   "source": [
    "These codes create functions that carry out all necessary calculations"
   ]
  },
  {
   "cell_type": "code",
   "execution_count": 3,
   "id": "bb88038e",
   "metadata": {},
   "outputs": [],
   "source": [
    "#taxes\n",
    "def calculate_federal_tax(income):\n",
    "    basetax=federaltax.iloc[federaltax[federaltax['Over']<=income].last_valid_index()]['Base Tax']\n",
    "    taxpercentage=federaltax.iloc[federaltax[federaltax['Over']<=income].last_valid_index()]['Tax Percentage']\n",
    "    amountfrombasetax=federaltax.iloc[federaltax[federaltax['Over']<=income].last_valid_index()]['Over']\n",
    "    taxes=(income-amountfrombasetax)*taxpercentage + basetax\n",
    "    return taxes\n",
    "\n",
    "def calculate_california_tax(income):\n",
    "    basetax=californiatax.iloc[californiatax[californiatax['Over']<=income].last_valid_index()]['Base Tax']\n",
    "    taxpercentage=californiatax.iloc[californiatax[californiatax['Over']<=income].last_valid_index()]['percentage']\n",
    "    amountfrombasetax=californiatax.iloc[californiatax[californiatax['Over']<=income].last_valid_index()]['Over']\n",
    "    taxes=(income-amountfrombasetax)*taxpercentage + basetax\n",
    "    return taxes\n",
    "\n",
    "def total_tax_cali(income):\n",
    "    taxcali=calculate_california_tax(income)\n",
    "    taxfed=calculate_federal_tax(income)\n",
    "    taxes=taxcali+taxfed\n",
    "    return taxes\n",
    "\n",
    "def total_mass_tax(income):\n",
    "    taxfed=calculate_federal_tax(income)\n",
    "    taxmass=income*0.05\n",
    "    taxes=taxmass+taxfed\n",
    "    return taxes\n",
    "\n",
    "#final table\n",
    "def editmergedtable():\n",
    "    global yearlyexpense, starting_year, savingsbalance, ratesavings, irabalance, rateira, age, inflation, dates, datestable, mergedtable\n",
    "    age = agebutton.value\n",
    "    starting_year = current_year.value\n",
    "    yearlyexpense = int(yearly_expense.value)\n",
    "    savingsbalance = int(moneyinsavings.value)\n",
    "    irabalance = int(moneyinirasavings.value)\n",
    "    rateira = irainterest.value / 100.0  # Convert to percentage\n",
    "    ratesavings = savingsinterest.value / 100.0  # Convert to percentage\n",
    "    inflation[\"Annual Expenses\"]=inflation[\"Inflation Multiplier\"] * yearlyexpense \n",
    "    starting_year = int(starting_year)\n",
    "    dates = range(starting_year, inflation[\"Year\"].max()+1)\n",
    "    datestable = pd.DataFrame(dates, columns=['Year'])\n",
    "    mergedtable = datestable.merge(inflation[['Year', 'Annual Expenses']], on='Year')\n",
    "    mergedtable['Age']=age-int(starting_year)+mergedtable['Year']\n",
    "    mergedtable=mergedtable.merge(irsira[['Age','Distribution Period in Years']], on='Age')\n",
    "    mergedtable['Annual Expenses with previous year taxes']=0\n",
    "    mergedtable['Minimum IRA Withdrawals']=0\n",
    "    mergedtable['Withdrew IRA Balance']=0\n",
    "    mergedtable['Expenses after IRA Withdrawals']=0\n",
    "    mergedtable['Savings Interest']=0\n",
    "    mergedtable['Savings']= 0\n",
    "    mergedtable['Savings'][0]=savingsbalance\n",
    "    mergedtable['Expenses after Savings']=0\n",
    "    mergedtable['IRA Balance']=0\n",
    "    mergedtable['IRA Interest']=0\n",
    "    mergedtable['IRA Balance'][0]=irabalance\n",
    "    mergedtable['Year Withdrawn']=0\n",
    "    mergedtable['MA Tax']=0\n",
    "    mergedtable['CA Tax']=0\n",
    "    mergedtable['Tax Savings']=0\n",
    "    mergedtable['Ideal State']=0\n",
    "    diff= mergedtable['Year'].max()-starting_year\n",
    "    i=0\n",
    "    while i<=diff:\n",
    "        mergedtable['Savings Interest'][i]=mergedtable['Savings'][i]*ratesavings\n",
    "        mergedtable['IRA Interest'][i]=mergedtable['IRA Balance'][i]*rateira\n",
    "        if i==0:\n",
    "            mergedtable['Annual Expenses with previous year taxes'][i]=mergedtable['Annual Expenses'][i]\n",
    "        \n",
    "        if mergedtable['Distribution Period in Years'][i]>0 and mergedtable['IRA Balance'][i]>0 :\n",
    "            mergedtable['Minimum IRA Withdrawals'][i]=mergedtable['IRA Balance'][i]/mergedtable['Distribution Period in Years'][i]\n",
    "        else:\n",
    "            mergedtable['Minimum IRA Withdrawals'][i]=0\n",
    "        \n",
    "        if i==0:\n",
    "            mergedtable['Withdrew IRA Balance'][i]= mergedtable['Minimum IRA Withdrawals'][i]\n",
    "        else:\n",
    "            mergedtable['Withdrew IRA Balance'][i]=mergedtable['Minimum IRA Withdrawals'][i]+mergedtable['Withdrew IRA Balance'][i-1]\n",
    "        \n",
    "        if mergedtable['Withdrew IRA Balance'][i]>=mergedtable['Annual Expenses with previous year taxes'][i]:\n",
    "            mergedtable['Expenses after IRA Withdrawals'][i]=0\n",
    "            mergedtable['Withdrew IRA Balance'][i]=mergedtable['Withdrew IRA Balance'][i]-mergedtable['Annual Expenses with previous year taxes'][i]\n",
    "        else:\n",
    "            mergedtable['Expenses after IRA Withdrawals'][i]=mergedtable['Annual Expenses with previous year taxes'][i]-mergedtable['Withdrew IRA Balance'][i]\n",
    "            mergedtable['Withdrew IRA Balance']=0\n",
    "        \n",
    "        if mergedtable['Savings Interest'][i]-mergedtable['Expenses after IRA Withdrawals'][i]+mergedtable['Savings'][i]>0:\n",
    "            mergedtable['Savings'][i+1]=mergedtable['Savings Interest'][i]-mergedtable['Expenses after IRA Withdrawals'][i]+mergedtable['Savings'][i]\n",
    "            mergedtable['Expenses after Savings'][i]=0\n",
    "        \n",
    "        else: \n",
    "            mergedtable['Savings'][i+1]=0\n",
    "            mergedtable['Expenses after Savings'][i]=mergedtable['Expenses after IRA Withdrawals'][i]-mergedtable['Savings'][i]-mergedtable['Savings Interest'][i]\n",
    "        \n",
    "        if mergedtable['Minimum IRA Withdrawals'][i]+mergedtable['Expenses after Savings'][i]<=mergedtable['IRA Balance'][i]:\n",
    "            mergedtable['Year Withdrawn'][i]=mergedtable['Minimum IRA Withdrawals'][i]+mergedtable['Expenses after Savings'][i]\n",
    "            mergedtable['IRA Balance'][i+1]=mergedtable['IRA Balance'][i]+mergedtable['IRA Interest'][i]-(mergedtable['Year Withdrawn'][i])\n",
    "        else:\n",
    "            mergedtable['Year Withdrawn'][i]=mergedtable['Minimum IRA Withdrawals'][i]+mergedtable['IRA Balance'][i]\n",
    "            mergedtable['IRA Balance'][i+1]=0\n",
    "        \n",
    "        \n",
    "        mergedtable['MA Tax'][i]= total_mass_tax(mergedtable['Year Withdrawn'][i]+mergedtable['Savings Interest'][i])\n",
    "        mergedtable['CA Tax'][i]= total_tax_cali(mergedtable['Year Withdrawn'][i]+mergedtable['Savings Interest'][i])\n",
    "        appliedtax=min(mergedtable['MA Tax'][i],mergedtable['CA Tax'][i])\n",
    "        mergedtable['Tax Savings'][i]=max(mergedtable['MA Tax'][i],mergedtable['CA Tax'][i])-min(mergedtable['MA Tax'][i],mergedtable['CA Tax'][i])\n",
    "        \n",
    "        if mergedtable['MA Tax'][i]>mergedtable['CA Tax'][i]:\n",
    "            mergedtable['Ideal State'][i]='CA'\n",
    "        else: mergedtable['Ideal State'][i]='MA'\n",
    "            \n",
    "            \n",
    "            \n",
    "        \n",
    "        if i==0:\n",
    "            mergedtable['Annual Expenses with previous year taxes'][i+1]=mergedtable['Annual Expenses'][i+1]+appliedtax\n",
    "        elif i<diff:\n",
    "            mergedtable['Annual Expenses with previous year taxes'][i+1]=mergedtable['Annual Expenses'][i+1]+appliedtax\n",
    "        else:\n",
    "            mergedtable['Annual Expenses with previous year taxes'][i+1]=0\n",
    "\n",
    "        i=i+1\n",
    "    \n",
    "        \n",
    "def savingssrunouton():\n",
    "    global mergedtable\n",
    "    try:\n",
    "        yeardepletion = \"Your Savings will be depleted after year \" + str(mergedtable.query('Savings == 0').iloc[0]['Year'])\n",
    "        return yeardepletion\n",
    "    except IndexError:\n",
    "        lastdate = mergedtable['Year'].max()\n",
    "        yeardepletion = \"Your Savings will be depleted after after last date available in study: \" + str(lastdate)\n",
    "        return yeardepletion\n",
    "\n",
    "    \n",
    "def irasrunouton():\n",
    "    global mergedtable\n",
    "    try:\n",
    "        yeardepletion = \"Your IRA Funds will be depleted after year \" + str(mergedtable[mergedtable['IRA Balance']<=0].iloc[0]['Year'])\n",
    "        return yeardepletion\n",
    "    except IndexError:\n",
    "        lastdate = mergedtable['Year'].max()\n",
    "        yeardepletion = \"Your IRA Funds will be depleted after after last date available in study: \" + str(lastdate)\n",
    "        return yeardepletion\n",
    "\n",
    "def agerunout():\n",
    "    global mergedtable\n",
    "    try:\n",
    "        lastage = \"Your age when your funds finish is \" + str(mergedtable[mergedtable['IRA Balance']<=0].iloc[0]['Age'])\n",
    "        return lastage\n",
    "    except IndexError:\n",
    "        lastdate = mergedtable['Age'].max()\n",
    "        lastage = \"Your IRA Funds will last after you reach age: \" + str(lastdate) + \". There is not enough data to predict after\"\n",
    "        return lastage"
   ]
  },
  {
   "cell_type": "markdown",
   "id": "2a348705",
   "metadata": {},
   "source": [
    "The following codes use functions and widgets to create visualizations and a user interface."
   ]
  },
  {
   "cell_type": "code",
   "execution_count": 4,
   "id": "ace80d53",
   "metadata": {},
   "outputs": [],
   "source": [
    "#button setups\n",
    "button_layout = widgets.Layout(width='600px', height='100px')  # Adjust width and height as needed\n",
    "button_style = widgets.ButtonStyle(button_color='lightblue')\n",
    "button_style2 = widgets.ButtonStyle(button_color='lightgreen')\n",
    "text_layout = widgets.Layout(width='600px', height='20px')  \n",
    "description_width = 'initial'\n",
    "btn_getfunds=widgets.Button(description=\"SEE FUNDS\", layout=button_layout, style=button_style)\n",
    "\n",
    "getresult=widgets.Button(description=\"VERIFY VALUES\", layout=button_layout, style=button_style)\n",
    "btn_back1=widgets.Button(description=\"GO BACK\", layout=button_layout, style=button_style)\n",
    "btn_back2=widgets.Button(description=\"GO BACK\", layout=button_layout, style=button_style)\n",
    "btn_proceed = widgets.Button(description=\"CHECK RESULTS\", layout=button_layout, style=button_style)\n",
    "btn_start = widgets.Button(description=\"START\", layout=button_layout, style=button_style)\n",
    "btn_taxschedule = widgets.Button(description=\"VIEW YOUR TAX SCHEDULE\", layout=button_layout, style=button_style)"
   ]
  },
  {
   "cell_type": "code",
   "execution_count": 5,
   "id": "38d090d7",
   "metadata": {},
   "outputs": [],
   "source": [
    "#to visualize the total funds over time\n",
    "def getfundsgraph(self):\n",
    "    clear_output()\n",
    "\n",
    "    long_format = mergedtable.melt(id_vars='Year', var_name='Category', value_name='Amount')\n",
    "    filtered_data = long_format[long_format['Category'].isin(['Annual Expenses', 'IRA Balance', 'Savings'])]\n",
    "\n",
    "    zero_balances = mergedtable[(mergedtable['IRA Balance'] == 0)]\n",
    "    if not zero_balances.empty:\n",
    "        last_year = zero_balances['Year'].min()\n",
    "        filtered_data = filtered_data[filtered_data['Year'] <= last_year]\n",
    "\n",
    "    fig2 = px.line(filtered_data, x='Year', y='Amount', color='Category', labels={'Amount': 'USD'})\n",
    "    fig2.update_layout(title='Annual Expenses, IRA Balance, and Savings Over Years', xaxis_title='Year', yaxis_title='USD')\n",
    "    display(fig2, btn_back2)\n"
   ]
  },
  {
   "cell_type": "code",
   "execution_count": 6,
   "id": "6e78a97a",
   "metadata": {},
   "outputs": [],
   "source": [
    "#to visualize the tax schedule and ideal state to live in based on a specific year\n",
    "def gettaxschedule(self):\n",
    "    clear_output()\n",
    "    fig = px.bar(mergedtable[mergedtable['IRA Balance'] > 0], x='Year', y='Tax Savings', color='Ideal State',\n",
    "             hover_data=mergedtable[mergedtable['IRA Balance'] > 0][['Tax Savings']], \n",
    "             labels={'Tax Savings': 'Sum of Tax Savings'}, \n",
    "             barmode='group')\n",
    "\n",
    "    fig.update_layout(\n",
    "        title=\"Yearly Tax Savings Grouped by Ideal State\",\n",
    "        xaxis_title=\"Year\",\n",
    "        yaxis_title=\"Sum of Tax Savings\"\n",
    "    )\n",
    "\n",
    "    display(fig, btn_back2 )\n",
    "    "
   ]
  },
  {
   "cell_type": "code",
   "execution_count": 7,
   "id": "06baa4f4",
   "metadata": {},
   "outputs": [],
   "source": [
    "#to visualize all informations that are useful for the pensioner\n",
    "def ThirdPage(self):\n",
    "    clear_output()\n",
    "    date1= savingssrunouton()\n",
    "    date2 = irasrunouton()\n",
    "    age1= agerunout()\n",
    "    btn_taxschedule.on_click(gettaxschedule)\n",
    "    btn_savingsend=widgets.Button(description=date1, layout=button_layout, style=button_style2)\n",
    "    btn_iraend=widgets.Button(description=date2, layout=button_layout, style=button_style2)\n",
    "    btn_lastage=widgets.Button(description=age1, layout=button_layout, style=button_style2)\n",
    "    display(btn_savingsend,btn_iraend,btn_lastage,btn_getfunds, btn_taxschedule, btn_back1)\n",
    "    \n",
    "    "
   ]
  },
  {
   "cell_type": "code",
   "execution_count": 8,
   "id": "38a61302",
   "metadata": {},
   "outputs": [],
   "source": [
    "#sets up a page for value insertion and an intermediary page two that verifies inputs\n",
    "def FirstPage(self):\n",
    "    clear_output()\n",
    "\n",
    "    display (agebutton,current_year, yearly_expense, moneyinsavings, moneyinirasavings,savingsinterest, irainterest, getresult)\n",
    "\n",
    "\n",
    "agebutton = widgets.IntSlider(\n",
    "    value=0,\n",
    "    min=0,\n",
    "    max=120,\n",
    "    step=1,\n",
    "    description='Age:',\n",
    "    disabled=False,\n",
    "    continuous_update=False,\n",
    "    orientation='horizontal',\n",
    "    readout=True,\n",
    "    readout_format='d',\n",
    "    layout=widgets.Layout(width='600px', height='20px') \n",
    ")\n",
    "\n",
    "current_year = widgets.IntSlider(\n",
    "    value=0,\n",
    "    min=inflation['Year'].min(),\n",
    "    max=inflation['Year'].max(),\n",
    "    step=1,\n",
    "    description='Current Year:',\n",
    "    disabled=False,\n",
    "    continuous_update=False,\n",
    "    orientation='horizontal',\n",
    "    readout=True,\n",
    "    readout_format='d',\n",
    "    layout=widgets.Layout(width='600px', height='20px') \n",
    ")\n",
    "\n",
    "yearly_expense = widgets.Text(\n",
    "    placeholder='What is your current yearly expense',\n",
    "    description='Type your yearly expense as a number',\n",
    "    disabled=False,\n",
    "    layout=text_layout,\n",
    "    style={'description_width': description_width}\n",
    ")\n",
    "\n",
    "moneyinsavings = widgets.Text(\n",
    "    placeholder='What is your current Savings Account Balance',\n",
    "    description='Type your Savings Account Balance as a number',\n",
    "    disabled=False,\n",
    "    layout=text_layout,\n",
    "    style={'description_width': description_width}\n",
    ")\n",
    "\n",
    "moneyinirasavings = widgets.Text(\n",
    "    placeholder='What is your current IRA Account Balance',\n",
    "    description='Type your IRA Account Balance as a number',\n",
    "    disabled=False,\n",
    "    layout=text_layout,\n",
    "    style={'description_width': description_width}\n",
    ")\n",
    "\n",
    "irainterest = widgets.FloatSlider(\n",
    "    value=0,\n",
    "    min=0,\n",
    "    max=100,\n",
    "    step=0.5,\n",
    "    description='IRA Interest Rate %:',\n",
    "    disabled=False,\n",
    "    continuous_update=False,\n",
    "    orientation='horizontal',\n",
    "    readout=True,\n",
    "    readout_format='.1f',\n",
    "    style={'description_width': 'initial'},\n",
    "    layout=widgets.Layout(width='600px', height='20px') \n",
    ")\n",
    "\n",
    "savingsinterest = widgets.FloatSlider(\n",
    "    value=0,\n",
    "    min=0,\n",
    "    max=100,\n",
    "    step=0.5,\n",
    "    description='Savings Account Interest Rate %:',\n",
    "    disabled=False,\n",
    "    continuous_update=False,\n",
    "    orientation='horizontal',\n",
    "    readout=True,\n",
    "    readout_format='.1f',\n",
    "    style={'description_width': 'initial'},\n",
    "    layout=widgets.Layout(width='600px', height='20px') \n",
    ")\n",
    "\n",
    "\n",
    "def SecondPage(self):\n",
    "\n",
    "    if (agebutton.value == 0 or \n",
    "        current_year.value == 0 or \n",
    "        yearly_expense.value.strip() == '' or \n",
    "        moneyinsavings.value.strip() == '' or \n",
    "        moneyinirasavings.value.strip() == '' or \n",
    "        irainterest.value == 0 or \n",
    "        savingsinterest.value == 0):\n",
    "        print('Error: Please fill in all fields with valid information.')\n",
    "        display(btn_back1)\n",
    "        \n",
    "    else:\n",
    "        try:\n",
    "            currentage = agebutton.value\n",
    "            starting_year = current_year.value\n",
    "            yearlyexpense = int(yearly_expense.value)\n",
    "            savingsbalance = int(moneyinsavings.value)\n",
    "            irabalance = int(moneyinirasavings.value)\n",
    "            rateira = irainterest.value / 100.0  # Convert to percentage\n",
    "            ratesavings = savingsinterest.value / 100.0  # Convert to percentage\n",
    "            editmergedtable()\n",
    "            display(btn_proceed)\n",
    "            \n",
    "            \n",
    "\n",
    "        except ValueError:\n",
    "            print(\"Error: Please make sure all numerical fields contain only numbers.\")\n",
    "            display(btn_back1)\n",
    "\n"
   ]
  },
  {
   "cell_type": "code",
   "execution_count": 9,
   "id": "40bba40f",
   "metadata": {},
   "outputs": [],
   "source": [
    "#button actions\n",
    "btn_proceed.on_click(ThirdPage)\n",
    "getresult.on_click(SecondPage)\n",
    "btn_back1.on_click(FirstPage)\n",
    "btn_start.on_click(FirstPage)\n",
    "btn_taxschedule.on_click(gettaxschedule)\n",
    "btn_back2.on_click(ThirdPage)\n",
    "btn_getfunds.on_click(getfundsgraph)"
   ]
  },
  {
   "cell_type": "code",
   "execution_count": 10,
   "id": "0e90f1ff",
   "metadata": {},
   "outputs": [
    {
     "data": {
      "application/vnd.plotly.v1+json": {
       "config": {
        "plotlyServerURL": "https://plot.ly"
       },
       "data": [
        {
         "hovertemplate": "Category=Annual Expenses<br>Year=%{x}<br>USD=%{y}<extra></extra>",
         "legendgroup": "Annual Expenses",
         "line": {
          "color": "#636efa",
          "dash": "solid"
         },
         "marker": {
          "symbol": "circle"
         },
         "mode": "lines",
         "name": "Annual Expenses",
         "orientation": "h",
         "showlegend": true,
         "type": "scatter",
         "x": [
          2023,
          2024,
          2025,
          2026,
          2027,
          2028,
          2029,
          2030,
          2031,
          2032,
          2033,
          2034,
          2035,
          2036,
          2037,
          2038,
          2039,
          2040,
          2041,
          2042,
          2043
         ],
         "xaxis": "x",
         "y": [
          73504.6,
          77025.47034,
          79346.24777999999,
          81073.61560399999,
          82738.056908,
          84444.11563999999,
          86289.21954800001,
          88234.1786,
          90236.212092,
          92287.2812,
          94388.662556,
          96543.555764,
          98764.057548,
          101035.630868,
          103359.450356,
          105736.71770800001,
          108168.662228,
          110656.54144,
          113201.64190399999,
          115805.279692,
          118468.80113600001
         ],
         "yaxis": "y"
        },
        {
         "hovertemplate": "Category=Savings<br>Year=%{x}<br>USD=%{y}<extra></extra>",
         "legendgroup": "Savings",
         "line": {
          "color": "#EF553B",
          "dash": "solid"
         },
         "marker": {
          "symbol": "circle"
         },
         "mode": "lines",
         "name": "Savings",
         "orientation": "h",
         "showlegend": true,
         "type": "scatter",
         "x": [
          2023,
          2024,
          2025,
          2026,
          2027,
          2028,
          2029,
          2030,
          2031,
          2032,
          2033,
          2034,
          2035,
          2036,
          2037,
          2038,
          2039,
          2040,
          2041,
          2042,
          2043
         ],
         "xaxis": "x",
         "y": [
          580000,
          541295.4,
          492468.23166000005,
          438720.41897160007,
          380436.37717215286,
          317448.782924844,
          249472.45432682792,
          176037.3731441581,
          96703.95038699091,
          11097.566413070264,
          0,
          0,
          0,
          0,
          0,
          0,
          0,
          0,
          0,
          0,
          0
         ],
         "yaxis": "y"
        },
        {
         "hovertemplate": "Category=IRA Balance<br>Year=%{x}<br>USD=%{y}<extra></extra>",
         "legendgroup": "IRA Balance",
         "line": {
          "color": "#00cc96",
          "dash": "solid"
         },
         "marker": {
          "symbol": "circle"
         },
         "mode": "lines",
         "name": "IRA Balance",
         "orientation": "h",
         "showlegend": true,
         "type": "scatter",
         "x": [
          2023,
          2024,
          2025,
          2026,
          2027,
          2028,
          2029,
          2030,
          2031,
          2032,
          2033,
          2034,
          2035,
          2036,
          2037,
          2038,
          2039,
          2040,
          2041,
          2042,
          2043
         ],
         "xaxis": "x",
         "y": [
          400000,
          432000,
          466560,
          503884.8,
          544195.584,
          587731.23072,
          634749.7291776,
          685529.707511808,
          740372.0841127527,
          799601.8508417729,
          782402.0897973919,
          738762.812489233,
          683232.314820851,
          618451.6514769227,
          544736.1821799609,
          461643.93116250215,
          368455.3331052108,
          264317.42086013785,
          148269.7266635771,
          19272.52916901291,
          0
         ],
         "yaxis": "y"
        }
       ],
       "layout": {
        "legend": {
         "title": {
          "text": "Category"
         },
         "tracegroupgap": 0
        },
        "margin": {
         "t": 60
        },
        "template": {
         "data": {
          "bar": [
           {
            "error_x": {
             "color": "#2a3f5f"
            },
            "error_y": {
             "color": "#2a3f5f"
            },
            "marker": {
             "line": {
              "color": "#E5ECF6",
              "width": 0.5
             },
             "pattern": {
              "fillmode": "overlay",
              "size": 10,
              "solidity": 0.2
             }
            },
            "type": "bar"
           }
          ],
          "barpolar": [
           {
            "marker": {
             "line": {
              "color": "#E5ECF6",
              "width": 0.5
             },
             "pattern": {
              "fillmode": "overlay",
              "size": 10,
              "solidity": 0.2
             }
            },
            "type": "barpolar"
           }
          ],
          "carpet": [
           {
            "aaxis": {
             "endlinecolor": "#2a3f5f",
             "gridcolor": "white",
             "linecolor": "white",
             "minorgridcolor": "white",
             "startlinecolor": "#2a3f5f"
            },
            "baxis": {
             "endlinecolor": "#2a3f5f",
             "gridcolor": "white",
             "linecolor": "white",
             "minorgridcolor": "white",
             "startlinecolor": "#2a3f5f"
            },
            "type": "carpet"
           }
          ],
          "choropleth": [
           {
            "colorbar": {
             "outlinewidth": 0,
             "ticks": ""
            },
            "type": "choropleth"
           }
          ],
          "contour": [
           {
            "colorbar": {
             "outlinewidth": 0,
             "ticks": ""
            },
            "colorscale": [
             [
              0,
              "#0d0887"
             ],
             [
              0.1111111111111111,
              "#46039f"
             ],
             [
              0.2222222222222222,
              "#7201a8"
             ],
             [
              0.3333333333333333,
              "#9c179e"
             ],
             [
              0.4444444444444444,
              "#bd3786"
             ],
             [
              0.5555555555555556,
              "#d8576b"
             ],
             [
              0.6666666666666666,
              "#ed7953"
             ],
             [
              0.7777777777777778,
              "#fb9f3a"
             ],
             [
              0.8888888888888888,
              "#fdca26"
             ],
             [
              1,
              "#f0f921"
             ]
            ],
            "type": "contour"
           }
          ],
          "contourcarpet": [
           {
            "colorbar": {
             "outlinewidth": 0,
             "ticks": ""
            },
            "type": "contourcarpet"
           }
          ],
          "heatmap": [
           {
            "colorbar": {
             "outlinewidth": 0,
             "ticks": ""
            },
            "colorscale": [
             [
              0,
              "#0d0887"
             ],
             [
              0.1111111111111111,
              "#46039f"
             ],
             [
              0.2222222222222222,
              "#7201a8"
             ],
             [
              0.3333333333333333,
              "#9c179e"
             ],
             [
              0.4444444444444444,
              "#bd3786"
             ],
             [
              0.5555555555555556,
              "#d8576b"
             ],
             [
              0.6666666666666666,
              "#ed7953"
             ],
             [
              0.7777777777777778,
              "#fb9f3a"
             ],
             [
              0.8888888888888888,
              "#fdca26"
             ],
             [
              1,
              "#f0f921"
             ]
            ],
            "type": "heatmap"
           }
          ],
          "heatmapgl": [
           {
            "colorbar": {
             "outlinewidth": 0,
             "ticks": ""
            },
            "colorscale": [
             [
              0,
              "#0d0887"
             ],
             [
              0.1111111111111111,
              "#46039f"
             ],
             [
              0.2222222222222222,
              "#7201a8"
             ],
             [
              0.3333333333333333,
              "#9c179e"
             ],
             [
              0.4444444444444444,
              "#bd3786"
             ],
             [
              0.5555555555555556,
              "#d8576b"
             ],
             [
              0.6666666666666666,
              "#ed7953"
             ],
             [
              0.7777777777777778,
              "#fb9f3a"
             ],
             [
              0.8888888888888888,
              "#fdca26"
             ],
             [
              1,
              "#f0f921"
             ]
            ],
            "type": "heatmapgl"
           }
          ],
          "histogram": [
           {
            "marker": {
             "pattern": {
              "fillmode": "overlay",
              "size": 10,
              "solidity": 0.2
             }
            },
            "type": "histogram"
           }
          ],
          "histogram2d": [
           {
            "colorbar": {
             "outlinewidth": 0,
             "ticks": ""
            },
            "colorscale": [
             [
              0,
              "#0d0887"
             ],
             [
              0.1111111111111111,
              "#46039f"
             ],
             [
              0.2222222222222222,
              "#7201a8"
             ],
             [
              0.3333333333333333,
              "#9c179e"
             ],
             [
              0.4444444444444444,
              "#bd3786"
             ],
             [
              0.5555555555555556,
              "#d8576b"
             ],
             [
              0.6666666666666666,
              "#ed7953"
             ],
             [
              0.7777777777777778,
              "#fb9f3a"
             ],
             [
              0.8888888888888888,
              "#fdca26"
             ],
             [
              1,
              "#f0f921"
             ]
            ],
            "type": "histogram2d"
           }
          ],
          "histogram2dcontour": [
           {
            "colorbar": {
             "outlinewidth": 0,
             "ticks": ""
            },
            "colorscale": [
             [
              0,
              "#0d0887"
             ],
             [
              0.1111111111111111,
              "#46039f"
             ],
             [
              0.2222222222222222,
              "#7201a8"
             ],
             [
              0.3333333333333333,
              "#9c179e"
             ],
             [
              0.4444444444444444,
              "#bd3786"
             ],
             [
              0.5555555555555556,
              "#d8576b"
             ],
             [
              0.6666666666666666,
              "#ed7953"
             ],
             [
              0.7777777777777778,
              "#fb9f3a"
             ],
             [
              0.8888888888888888,
              "#fdca26"
             ],
             [
              1,
              "#f0f921"
             ]
            ],
            "type": "histogram2dcontour"
           }
          ],
          "mesh3d": [
           {
            "colorbar": {
             "outlinewidth": 0,
             "ticks": ""
            },
            "type": "mesh3d"
           }
          ],
          "parcoords": [
           {
            "line": {
             "colorbar": {
              "outlinewidth": 0,
              "ticks": ""
             }
            },
            "type": "parcoords"
           }
          ],
          "pie": [
           {
            "automargin": true,
            "type": "pie"
           }
          ],
          "scatter": [
           {
            "fillpattern": {
             "fillmode": "overlay",
             "size": 10,
             "solidity": 0.2
            },
            "type": "scatter"
           }
          ],
          "scatter3d": [
           {
            "line": {
             "colorbar": {
              "outlinewidth": 0,
              "ticks": ""
             }
            },
            "marker": {
             "colorbar": {
              "outlinewidth": 0,
              "ticks": ""
             }
            },
            "type": "scatter3d"
           }
          ],
          "scattercarpet": [
           {
            "marker": {
             "colorbar": {
              "outlinewidth": 0,
              "ticks": ""
             }
            },
            "type": "scattercarpet"
           }
          ],
          "scattergeo": [
           {
            "marker": {
             "colorbar": {
              "outlinewidth": 0,
              "ticks": ""
             }
            },
            "type": "scattergeo"
           }
          ],
          "scattergl": [
           {
            "marker": {
             "colorbar": {
              "outlinewidth": 0,
              "ticks": ""
             }
            },
            "type": "scattergl"
           }
          ],
          "scattermapbox": [
           {
            "marker": {
             "colorbar": {
              "outlinewidth": 0,
              "ticks": ""
             }
            },
            "type": "scattermapbox"
           }
          ],
          "scatterpolar": [
           {
            "marker": {
             "colorbar": {
              "outlinewidth": 0,
              "ticks": ""
             }
            },
            "type": "scatterpolar"
           }
          ],
          "scatterpolargl": [
           {
            "marker": {
             "colorbar": {
              "outlinewidth": 0,
              "ticks": ""
             }
            },
            "type": "scatterpolargl"
           }
          ],
          "scatterternary": [
           {
            "marker": {
             "colorbar": {
              "outlinewidth": 0,
              "ticks": ""
             }
            },
            "type": "scatterternary"
           }
          ],
          "surface": [
           {
            "colorbar": {
             "outlinewidth": 0,
             "ticks": ""
            },
            "colorscale": [
             [
              0,
              "#0d0887"
             ],
             [
              0.1111111111111111,
              "#46039f"
             ],
             [
              0.2222222222222222,
              "#7201a8"
             ],
             [
              0.3333333333333333,
              "#9c179e"
             ],
             [
              0.4444444444444444,
              "#bd3786"
             ],
             [
              0.5555555555555556,
              "#d8576b"
             ],
             [
              0.6666666666666666,
              "#ed7953"
             ],
             [
              0.7777777777777778,
              "#fb9f3a"
             ],
             [
              0.8888888888888888,
              "#fdca26"
             ],
             [
              1,
              "#f0f921"
             ]
            ],
            "type": "surface"
           }
          ],
          "table": [
           {
            "cells": {
             "fill": {
              "color": "#EBF0F8"
             },
             "line": {
              "color": "white"
             }
            },
            "header": {
             "fill": {
              "color": "#C8D4E3"
             },
             "line": {
              "color": "white"
             }
            },
            "type": "table"
           }
          ]
         },
         "layout": {
          "annotationdefaults": {
           "arrowcolor": "#2a3f5f",
           "arrowhead": 0,
           "arrowwidth": 1
          },
          "autotypenumbers": "strict",
          "coloraxis": {
           "colorbar": {
            "outlinewidth": 0,
            "ticks": ""
           }
          },
          "colorscale": {
           "diverging": [
            [
             0,
             "#8e0152"
            ],
            [
             0.1,
             "#c51b7d"
            ],
            [
             0.2,
             "#de77ae"
            ],
            [
             0.3,
             "#f1b6da"
            ],
            [
             0.4,
             "#fde0ef"
            ],
            [
             0.5,
             "#f7f7f7"
            ],
            [
             0.6,
             "#e6f5d0"
            ],
            [
             0.7,
             "#b8e186"
            ],
            [
             0.8,
             "#7fbc41"
            ],
            [
             0.9,
             "#4d9221"
            ],
            [
             1,
             "#276419"
            ]
           ],
           "sequential": [
            [
             0,
             "#0d0887"
            ],
            [
             0.1111111111111111,
             "#46039f"
            ],
            [
             0.2222222222222222,
             "#7201a8"
            ],
            [
             0.3333333333333333,
             "#9c179e"
            ],
            [
             0.4444444444444444,
             "#bd3786"
            ],
            [
             0.5555555555555556,
             "#d8576b"
            ],
            [
             0.6666666666666666,
             "#ed7953"
            ],
            [
             0.7777777777777778,
             "#fb9f3a"
            ],
            [
             0.8888888888888888,
             "#fdca26"
            ],
            [
             1,
             "#f0f921"
            ]
           ],
           "sequentialminus": [
            [
             0,
             "#0d0887"
            ],
            [
             0.1111111111111111,
             "#46039f"
            ],
            [
             0.2222222222222222,
             "#7201a8"
            ],
            [
             0.3333333333333333,
             "#9c179e"
            ],
            [
             0.4444444444444444,
             "#bd3786"
            ],
            [
             0.5555555555555556,
             "#d8576b"
            ],
            [
             0.6666666666666666,
             "#ed7953"
            ],
            [
             0.7777777777777778,
             "#fb9f3a"
            ],
            [
             0.8888888888888888,
             "#fdca26"
            ],
            [
             1,
             "#f0f921"
            ]
           ]
          },
          "colorway": [
           "#636efa",
           "#EF553B",
           "#00cc96",
           "#ab63fa",
           "#FFA15A",
           "#19d3f3",
           "#FF6692",
           "#B6E880",
           "#FF97FF",
           "#FECB52"
          ],
          "font": {
           "color": "#2a3f5f"
          },
          "geo": {
           "bgcolor": "white",
           "lakecolor": "white",
           "landcolor": "#E5ECF6",
           "showlakes": true,
           "showland": true,
           "subunitcolor": "white"
          },
          "hoverlabel": {
           "align": "left"
          },
          "hovermode": "closest",
          "mapbox": {
           "style": "light"
          },
          "paper_bgcolor": "white",
          "plot_bgcolor": "#E5ECF6",
          "polar": {
           "angularaxis": {
            "gridcolor": "white",
            "linecolor": "white",
            "ticks": ""
           },
           "bgcolor": "#E5ECF6",
           "radialaxis": {
            "gridcolor": "white",
            "linecolor": "white",
            "ticks": ""
           }
          },
          "scene": {
           "xaxis": {
            "backgroundcolor": "#E5ECF6",
            "gridcolor": "white",
            "gridwidth": 2,
            "linecolor": "white",
            "showbackground": true,
            "ticks": "",
            "zerolinecolor": "white"
           },
           "yaxis": {
            "backgroundcolor": "#E5ECF6",
            "gridcolor": "white",
            "gridwidth": 2,
            "linecolor": "white",
            "showbackground": true,
            "ticks": "",
            "zerolinecolor": "white"
           },
           "zaxis": {
            "backgroundcolor": "#E5ECF6",
            "gridcolor": "white",
            "gridwidth": 2,
            "linecolor": "white",
            "showbackground": true,
            "ticks": "",
            "zerolinecolor": "white"
           }
          },
          "shapedefaults": {
           "line": {
            "color": "#2a3f5f"
           }
          },
          "ternary": {
           "aaxis": {
            "gridcolor": "white",
            "linecolor": "white",
            "ticks": ""
           },
           "baxis": {
            "gridcolor": "white",
            "linecolor": "white",
            "ticks": ""
           },
           "bgcolor": "#E5ECF6",
           "caxis": {
            "gridcolor": "white",
            "linecolor": "white",
            "ticks": ""
           }
          },
          "title": {
           "x": 0.05
          },
          "xaxis": {
           "automargin": true,
           "gridcolor": "white",
           "linecolor": "white",
           "ticks": "",
           "title": {
            "standoff": 15
           },
           "zerolinecolor": "white",
           "zerolinewidth": 2
          },
          "yaxis": {
           "automargin": true,
           "gridcolor": "white",
           "linecolor": "white",
           "ticks": "",
           "title": {
            "standoff": 15
           },
           "zerolinecolor": "white",
           "zerolinewidth": 2
          }
         }
        },
        "title": {
         "text": "Annual Expenses, IRA Balance, and Savings Over Years"
        },
        "xaxis": {
         "anchor": "y",
         "domain": [
          0,
          1
         ],
         "title": {
          "text": "Year"
         }
        },
        "yaxis": {
         "anchor": "x",
         "domain": [
          0,
          1
         ],
         "title": {
          "text": "USD"
         }
        }
       }
      },
      "text/html": [
       "<div>                            <div id=\"20f633f2-d180-4082-9635-94e326b36e58\" class=\"plotly-graph-div\" style=\"height:525px; width:100%;\"></div>            <script type=\"text/javascript\">                require([\"plotly\"], function(Plotly) {                    window.PLOTLYENV=window.PLOTLYENV || {};                                    if (document.getElementById(\"20f633f2-d180-4082-9635-94e326b36e58\")) {                    Plotly.newPlot(                        \"20f633f2-d180-4082-9635-94e326b36e58\",                        [{\"hovertemplate\":\"Category=Annual Expenses<br>Year=%{x}<br>USD=%{y}<extra></extra>\",\"legendgroup\":\"Annual Expenses\",\"line\":{\"color\":\"#636efa\",\"dash\":\"solid\"},\"marker\":{\"symbol\":\"circle\"},\"mode\":\"lines\",\"name\":\"Annual Expenses\",\"orientation\":\"h\",\"showlegend\":true,\"x\":[2023,2024,2025,2026,2027,2028,2029,2030,2031,2032,2033,2034,2035,2036,2037,2038,2039,2040,2041,2042,2043],\"xaxis\":\"x\",\"y\":[73504.6,77025.47034,79346.24777999999,81073.61560399999,82738.056908,84444.11563999999,86289.21954800001,88234.1786,90236.212092,92287.2812,94388.662556,96543.555764,98764.057548,101035.630868,103359.450356,105736.71770800001,108168.662228,110656.54144,113201.64190399999,115805.279692,118468.80113600001],\"yaxis\":\"y\",\"type\":\"scatter\"},{\"hovertemplate\":\"Category=Savings<br>Year=%{x}<br>USD=%{y}<extra></extra>\",\"legendgroup\":\"Savings\",\"line\":{\"color\":\"#EF553B\",\"dash\":\"solid\"},\"marker\":{\"symbol\":\"circle\"},\"mode\":\"lines\",\"name\":\"Savings\",\"orientation\":\"h\",\"showlegend\":true,\"x\":[2023,2024,2025,2026,2027,2028,2029,2030,2031,2032,2033,2034,2035,2036,2037,2038,2039,2040,2041,2042,2043],\"xaxis\":\"x\",\"y\":[580000.0,541295.4,492468.23166000005,438720.41897160007,380436.37717215286,317448.782924844,249472.45432682792,176037.3731441581,96703.95038699091,11097.566413070264,0.0,0.0,0.0,0.0,0.0,0.0,0.0,0.0,0.0,0.0,0.0],\"yaxis\":\"y\",\"type\":\"scatter\"},{\"hovertemplate\":\"Category=IRA Balance<br>Year=%{x}<br>USD=%{y}<extra></extra>\",\"legendgroup\":\"IRA Balance\",\"line\":{\"color\":\"#00cc96\",\"dash\":\"solid\"},\"marker\":{\"symbol\":\"circle\"},\"mode\":\"lines\",\"name\":\"IRA Balance\",\"orientation\":\"h\",\"showlegend\":true,\"x\":[2023,2024,2025,2026,2027,2028,2029,2030,2031,2032,2033,2034,2035,2036,2037,2038,2039,2040,2041,2042,2043],\"xaxis\":\"x\",\"y\":[400000.0,432000.0,466560.0,503884.8,544195.584,587731.23072,634749.7291776,685529.707511808,740372.0841127527,799601.8508417729,782402.0897973919,738762.812489233,683232.314820851,618451.6514769227,544736.1821799609,461643.93116250215,368455.3331052108,264317.42086013785,148269.7266635771,19272.52916901291,0.0],\"yaxis\":\"y\",\"type\":\"scatter\"}],                        {\"template\":{\"data\":{\"histogram2dcontour\":[{\"type\":\"histogram2dcontour\",\"colorbar\":{\"outlinewidth\":0,\"ticks\":\"\"},\"colorscale\":[[0.0,\"#0d0887\"],[0.1111111111111111,\"#46039f\"],[0.2222222222222222,\"#7201a8\"],[0.3333333333333333,\"#9c179e\"],[0.4444444444444444,\"#bd3786\"],[0.5555555555555556,\"#d8576b\"],[0.6666666666666666,\"#ed7953\"],[0.7777777777777778,\"#fb9f3a\"],[0.8888888888888888,\"#fdca26\"],[1.0,\"#f0f921\"]]}],\"choropleth\":[{\"type\":\"choropleth\",\"colorbar\":{\"outlinewidth\":0,\"ticks\":\"\"}}],\"histogram2d\":[{\"type\":\"histogram2d\",\"colorbar\":{\"outlinewidth\":0,\"ticks\":\"\"},\"colorscale\":[[0.0,\"#0d0887\"],[0.1111111111111111,\"#46039f\"],[0.2222222222222222,\"#7201a8\"],[0.3333333333333333,\"#9c179e\"],[0.4444444444444444,\"#bd3786\"],[0.5555555555555556,\"#d8576b\"],[0.6666666666666666,\"#ed7953\"],[0.7777777777777778,\"#fb9f3a\"],[0.8888888888888888,\"#fdca26\"],[1.0,\"#f0f921\"]]}],\"heatmap\":[{\"type\":\"heatmap\",\"colorbar\":{\"outlinewidth\":0,\"ticks\":\"\"},\"colorscale\":[[0.0,\"#0d0887\"],[0.1111111111111111,\"#46039f\"],[0.2222222222222222,\"#7201a8\"],[0.3333333333333333,\"#9c179e\"],[0.4444444444444444,\"#bd3786\"],[0.5555555555555556,\"#d8576b\"],[0.6666666666666666,\"#ed7953\"],[0.7777777777777778,\"#fb9f3a\"],[0.8888888888888888,\"#fdca26\"],[1.0,\"#f0f921\"]]}],\"heatmapgl\":[{\"type\":\"heatmapgl\",\"colorbar\":{\"outlinewidth\":0,\"ticks\":\"\"},\"colorscale\":[[0.0,\"#0d0887\"],[0.1111111111111111,\"#46039f\"],[0.2222222222222222,\"#7201a8\"],[0.3333333333333333,\"#9c179e\"],[0.4444444444444444,\"#bd3786\"],[0.5555555555555556,\"#d8576b\"],[0.6666666666666666,\"#ed7953\"],[0.7777777777777778,\"#fb9f3a\"],[0.8888888888888888,\"#fdca26\"],[1.0,\"#f0f921\"]]}],\"contourcarpet\":[{\"type\":\"contourcarpet\",\"colorbar\":{\"outlinewidth\":0,\"ticks\":\"\"}}],\"contour\":[{\"type\":\"contour\",\"colorbar\":{\"outlinewidth\":0,\"ticks\":\"\"},\"colorscale\":[[0.0,\"#0d0887\"],[0.1111111111111111,\"#46039f\"],[0.2222222222222222,\"#7201a8\"],[0.3333333333333333,\"#9c179e\"],[0.4444444444444444,\"#bd3786\"],[0.5555555555555556,\"#d8576b\"],[0.6666666666666666,\"#ed7953\"],[0.7777777777777778,\"#fb9f3a\"],[0.8888888888888888,\"#fdca26\"],[1.0,\"#f0f921\"]]}],\"surface\":[{\"type\":\"surface\",\"colorbar\":{\"outlinewidth\":0,\"ticks\":\"\"},\"colorscale\":[[0.0,\"#0d0887\"],[0.1111111111111111,\"#46039f\"],[0.2222222222222222,\"#7201a8\"],[0.3333333333333333,\"#9c179e\"],[0.4444444444444444,\"#bd3786\"],[0.5555555555555556,\"#d8576b\"],[0.6666666666666666,\"#ed7953\"],[0.7777777777777778,\"#fb9f3a\"],[0.8888888888888888,\"#fdca26\"],[1.0,\"#f0f921\"]]}],\"mesh3d\":[{\"type\":\"mesh3d\",\"colorbar\":{\"outlinewidth\":0,\"ticks\":\"\"}}],\"scatter\":[{\"fillpattern\":{\"fillmode\":\"overlay\",\"size\":10,\"solidity\":0.2},\"type\":\"scatter\"}],\"parcoords\":[{\"type\":\"parcoords\",\"line\":{\"colorbar\":{\"outlinewidth\":0,\"ticks\":\"\"}}}],\"scatterpolargl\":[{\"type\":\"scatterpolargl\",\"marker\":{\"colorbar\":{\"outlinewidth\":0,\"ticks\":\"\"}}}],\"bar\":[{\"error_x\":{\"color\":\"#2a3f5f\"},\"error_y\":{\"color\":\"#2a3f5f\"},\"marker\":{\"line\":{\"color\":\"#E5ECF6\",\"width\":0.5},\"pattern\":{\"fillmode\":\"overlay\",\"size\":10,\"solidity\":0.2}},\"type\":\"bar\"}],\"scattergeo\":[{\"type\":\"scattergeo\",\"marker\":{\"colorbar\":{\"outlinewidth\":0,\"ticks\":\"\"}}}],\"scatterpolar\":[{\"type\":\"scatterpolar\",\"marker\":{\"colorbar\":{\"outlinewidth\":0,\"ticks\":\"\"}}}],\"histogram\":[{\"marker\":{\"pattern\":{\"fillmode\":\"overlay\",\"size\":10,\"solidity\":0.2}},\"type\":\"histogram\"}],\"scattergl\":[{\"type\":\"scattergl\",\"marker\":{\"colorbar\":{\"outlinewidth\":0,\"ticks\":\"\"}}}],\"scatter3d\":[{\"type\":\"scatter3d\",\"line\":{\"colorbar\":{\"outlinewidth\":0,\"ticks\":\"\"}},\"marker\":{\"colorbar\":{\"outlinewidth\":0,\"ticks\":\"\"}}}],\"scattermapbox\":[{\"type\":\"scattermapbox\",\"marker\":{\"colorbar\":{\"outlinewidth\":0,\"ticks\":\"\"}}}],\"scatterternary\":[{\"type\":\"scatterternary\",\"marker\":{\"colorbar\":{\"outlinewidth\":0,\"ticks\":\"\"}}}],\"scattercarpet\":[{\"type\":\"scattercarpet\",\"marker\":{\"colorbar\":{\"outlinewidth\":0,\"ticks\":\"\"}}}],\"carpet\":[{\"aaxis\":{\"endlinecolor\":\"#2a3f5f\",\"gridcolor\":\"white\",\"linecolor\":\"white\",\"minorgridcolor\":\"white\",\"startlinecolor\":\"#2a3f5f\"},\"baxis\":{\"endlinecolor\":\"#2a3f5f\",\"gridcolor\":\"white\",\"linecolor\":\"white\",\"minorgridcolor\":\"white\",\"startlinecolor\":\"#2a3f5f\"},\"type\":\"carpet\"}],\"table\":[{\"cells\":{\"fill\":{\"color\":\"#EBF0F8\"},\"line\":{\"color\":\"white\"}},\"header\":{\"fill\":{\"color\":\"#C8D4E3\"},\"line\":{\"color\":\"white\"}},\"type\":\"table\"}],\"barpolar\":[{\"marker\":{\"line\":{\"color\":\"#E5ECF6\",\"width\":0.5},\"pattern\":{\"fillmode\":\"overlay\",\"size\":10,\"solidity\":0.2}},\"type\":\"barpolar\"}],\"pie\":[{\"automargin\":true,\"type\":\"pie\"}]},\"layout\":{\"autotypenumbers\":\"strict\",\"colorway\":[\"#636efa\",\"#EF553B\",\"#00cc96\",\"#ab63fa\",\"#FFA15A\",\"#19d3f3\",\"#FF6692\",\"#B6E880\",\"#FF97FF\",\"#FECB52\"],\"font\":{\"color\":\"#2a3f5f\"},\"hovermode\":\"closest\",\"hoverlabel\":{\"align\":\"left\"},\"paper_bgcolor\":\"white\",\"plot_bgcolor\":\"#E5ECF6\",\"polar\":{\"bgcolor\":\"#E5ECF6\",\"angularaxis\":{\"gridcolor\":\"white\",\"linecolor\":\"white\",\"ticks\":\"\"},\"radialaxis\":{\"gridcolor\":\"white\",\"linecolor\":\"white\",\"ticks\":\"\"}},\"ternary\":{\"bgcolor\":\"#E5ECF6\",\"aaxis\":{\"gridcolor\":\"white\",\"linecolor\":\"white\",\"ticks\":\"\"},\"baxis\":{\"gridcolor\":\"white\",\"linecolor\":\"white\",\"ticks\":\"\"},\"caxis\":{\"gridcolor\":\"white\",\"linecolor\":\"white\",\"ticks\":\"\"}},\"coloraxis\":{\"colorbar\":{\"outlinewidth\":0,\"ticks\":\"\"}},\"colorscale\":{\"sequential\":[[0.0,\"#0d0887\"],[0.1111111111111111,\"#46039f\"],[0.2222222222222222,\"#7201a8\"],[0.3333333333333333,\"#9c179e\"],[0.4444444444444444,\"#bd3786\"],[0.5555555555555556,\"#d8576b\"],[0.6666666666666666,\"#ed7953\"],[0.7777777777777778,\"#fb9f3a\"],[0.8888888888888888,\"#fdca26\"],[1.0,\"#f0f921\"]],\"sequentialminus\":[[0.0,\"#0d0887\"],[0.1111111111111111,\"#46039f\"],[0.2222222222222222,\"#7201a8\"],[0.3333333333333333,\"#9c179e\"],[0.4444444444444444,\"#bd3786\"],[0.5555555555555556,\"#d8576b\"],[0.6666666666666666,\"#ed7953\"],[0.7777777777777778,\"#fb9f3a\"],[0.8888888888888888,\"#fdca26\"],[1.0,\"#f0f921\"]],\"diverging\":[[0,\"#8e0152\"],[0.1,\"#c51b7d\"],[0.2,\"#de77ae\"],[0.3,\"#f1b6da\"],[0.4,\"#fde0ef\"],[0.5,\"#f7f7f7\"],[0.6,\"#e6f5d0\"],[0.7,\"#b8e186\"],[0.8,\"#7fbc41\"],[0.9,\"#4d9221\"],[1,\"#276419\"]]},\"xaxis\":{\"gridcolor\":\"white\",\"linecolor\":\"white\",\"ticks\":\"\",\"title\":{\"standoff\":15},\"zerolinecolor\":\"white\",\"automargin\":true,\"zerolinewidth\":2},\"yaxis\":{\"gridcolor\":\"white\",\"linecolor\":\"white\",\"ticks\":\"\",\"title\":{\"standoff\":15},\"zerolinecolor\":\"white\",\"automargin\":true,\"zerolinewidth\":2},\"scene\":{\"xaxis\":{\"backgroundcolor\":\"#E5ECF6\",\"gridcolor\":\"white\",\"linecolor\":\"white\",\"showbackground\":true,\"ticks\":\"\",\"zerolinecolor\":\"white\",\"gridwidth\":2},\"yaxis\":{\"backgroundcolor\":\"#E5ECF6\",\"gridcolor\":\"white\",\"linecolor\":\"white\",\"showbackground\":true,\"ticks\":\"\",\"zerolinecolor\":\"white\",\"gridwidth\":2},\"zaxis\":{\"backgroundcolor\":\"#E5ECF6\",\"gridcolor\":\"white\",\"linecolor\":\"white\",\"showbackground\":true,\"ticks\":\"\",\"zerolinecolor\":\"white\",\"gridwidth\":2}},\"shapedefaults\":{\"line\":{\"color\":\"#2a3f5f\"}},\"annotationdefaults\":{\"arrowcolor\":\"#2a3f5f\",\"arrowhead\":0,\"arrowwidth\":1},\"geo\":{\"bgcolor\":\"white\",\"landcolor\":\"#E5ECF6\",\"subunitcolor\":\"white\",\"showland\":true,\"showlakes\":true,\"lakecolor\":\"white\"},\"title\":{\"x\":0.05},\"mapbox\":{\"style\":\"light\"}}},\"xaxis\":{\"anchor\":\"y\",\"domain\":[0.0,1.0],\"title\":{\"text\":\"Year\"}},\"yaxis\":{\"anchor\":\"x\",\"domain\":[0.0,1.0],\"title\":{\"text\":\"USD\"}},\"legend\":{\"title\":{\"text\":\"Category\"},\"tracegroupgap\":0},\"margin\":{\"t\":60},\"title\":{\"text\":\"Annual Expenses, IRA Balance, and Savings Over Years\"}},                        {\"responsive\": true}                    ).then(function(){\n",
       "                            \n",
       "var gd = document.getElementById('20f633f2-d180-4082-9635-94e326b36e58');\n",
       "var x = new MutationObserver(function (mutations, observer) {{\n",
       "        var display = window.getComputedStyle(gd).display;\n",
       "        if (!display || display === 'none') {{\n",
       "            console.log([gd, 'removed!']);\n",
       "            Plotly.purge(gd);\n",
       "            observer.disconnect();\n",
       "        }}\n",
       "}});\n",
       "\n",
       "// Listen for the removal of the full notebook cells\n",
       "var notebookContainer = gd.closest('#notebook-container');\n",
       "if (notebookContainer) {{\n",
       "    x.observe(notebookContainer, {childList: true});\n",
       "}}\n",
       "\n",
       "// Listen for the clearing of the current output cell\n",
       "var outputEl = gd.closest('.output');\n",
       "if (outputEl) {{\n",
       "    x.observe(outputEl, {childList: true});\n",
       "}}\n",
       "\n",
       "                        })                };                });            </script>        </div>"
      ]
     },
     "metadata": {},
     "output_type": "display_data"
    },
    {
     "data": {
      "application/vnd.jupyter.widget-view+json": {
       "model_id": "55d0a59f473c4afb812e201097ad2334",
       "version_major": 2,
       "version_minor": 0
      },
      "text/plain": [
       "Button(description='GO BACK', layout=Layout(height='100px', width='600px'), style=ButtonStyle(button_color='li…"
      ]
     },
     "metadata": {},
     "output_type": "display_data"
    }
   ],
   "source": [
    "#executes the program\n",
    "display(btn_start)"
   ]
  }
 ],
 "metadata": {
  "kernelspec": {
   "display_name": "Python 3 (ipykernel)",
   "language": "python",
   "name": "python3"
  },
  "language_info": {
   "codemirror_mode": {
    "name": "ipython",
    "version": 3
   },
   "file_extension": ".py",
   "mimetype": "text/x-python",
   "name": "python",
   "nbconvert_exporter": "python",
   "pygments_lexer": "ipython3",
   "version": "3.11.5"
  }
 },
 "nbformat": 4,
 "nbformat_minor": 5
}
